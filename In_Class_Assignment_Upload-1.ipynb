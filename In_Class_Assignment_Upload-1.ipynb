{
  "nbformat": 4,
  "nbformat_minor": 0,
  "metadata": {
    "colab": {
      "provenance": [],
      "authorship_tag": "ABX9TyOgs2g+1cU+Bwd6l+EndVBE",
      "include_colab_link": true
    },
    "kernelspec": {
      "name": "python3",
      "display_name": "Python 3"
    },
    "language_info": {
      "name": "python"
    }
  },
  "cells": [
    {
      "cell_type": "markdown",
      "metadata": {
        "id": "view-in-github",
        "colab_type": "text"
      },
      "source": [
        "<a href=\"https://colab.research.google.com/github/ShayneB-28/BTE320-/blob/main/In_Class_Assignment_Upload-1.ipynb\" target=\"_parent\"><img src=\"https://colab.research.google.com/assets/colab-badge.svg\" alt=\"Open In Colab\"/></a>"
      ]
    },
    {
      "cell_type": "code",
      "execution_count": null,
      "metadata": {
        "colab": {
          "base_uri": "https://localhost:8080/"
        },
        "id": "5YqiJblhypiu",
        "outputId": "821760d6-4ee8-4976-a668-2959cb35a2e6"
      },
      "outputs": [
        {
          "output_type": "stream",
          "name": "stdout",
          "text": [
            "244.92000000000002\n"
          ]
        }
      ],
      "source": [
        "r=3\n",
        "h=10\n",
        "pi=3.14\n",
        "\n",
        "SA=2*pi*r**2 + 2*pi*r*h\n",
        "print(SA)\n",
        "#Class 3 : Finding the surface area of a cylinder"
      ]
    },
    {
      "cell_type": "code",
      "source": [
        "p1=input(\"choose rock, paper, or scissors: \")\n",
        "p2=input(\"choose rock, paper, or scissors:\")\n",
        "\n",
        "if p1==p2:\n",
        "  print(\"tie\")\n",
        "elif (p1==\"rock\" and p2==\"scissors\") or (p1==\"paper\" and p2==\"rock\") or (p1==\"scissors\" and p2==\"paper\"):\n",
        "  print(\"player 1 wins\")\n",
        "else:\n",
        "  print(\"player 2 wins\")"
      ],
      "metadata": {
        "colab": {
          "base_uri": "https://localhost:8080/"
        },
        "id": "gz3Xx2Y44mm5",
        "outputId": "445ae8f1-1d76-4036-a496-4d73f3f52ed0"
      },
      "execution_count": 1,
      "outputs": [
        {
          "output_type": "stream",
          "name": "stdout",
          "text": [
            "choose rock, paper, or scissors: rock\n",
            "choose rock, paper, or scissors:paper\n",
            "player 2 wins\n"
          ]
        }
      ]
    },
    {
      "cell_type": "code",
      "source": [],
      "metadata": {
        "id": "Wg5GKulW4rfp"
      },
      "execution_count": null,
      "outputs": []
    }
  ]
}