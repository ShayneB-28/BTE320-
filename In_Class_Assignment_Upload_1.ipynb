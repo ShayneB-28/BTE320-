{
  "nbformat": 4,
  "nbformat_minor": 0,
  "metadata": {
    "colab": {
      "provenance": [],
      "authorship_tag": "ABX9TyOG8VECZvkhebP6tYVseifu",
      "include_colab_link": true
    },
    "kernelspec": {
      "name": "python3",
      "display_name": "Python 3"
    },
    "language_info": {
      "name": "python"
    }
  },
  "cells": [
    {
      "cell_type": "markdown",
      "metadata": {
        "id": "view-in-github",
        "colab_type": "text"
      },
      "source": [
        "<a href=\"https://colab.research.google.com/github/ShayneB-28/BTE320-/blob/main/In_Class_Assignment_Upload_1.ipynb\" target=\"_parent\"><img src=\"https://colab.research.google.com/assets/colab-badge.svg\" alt=\"Open In Colab\"/></a>"
      ]
    },
    {
      "cell_type": "code",
      "execution_count": null,
      "metadata": {
        "colab": {
          "base_uri": "https://localhost:8080/"
        },
        "id": "5YqiJblhypiu",
        "outputId": "821760d6-4ee8-4976-a668-2959cb35a2e6"
      },
      "outputs": [
        {
          "output_type": "stream",
          "name": "stdout",
          "text": [
            "244.92000000000002\n"
          ]
        }
      ],
      "source": [
        "#Finding the surface area of a cylinder\n",
        "r=3\n",
        "h=10\n",
        "pi=3.14\n",
        "\n",
        "SA=2*pi*r**2 + 2*pi*r*h\n",
        "print(SA)\n"
      ]
    },
    {
      "cell_type": "code",
      "source": [
        "#Rock,Paper,Scissors\n",
        "import random\n",
        "\n",
        "c=input(\"Do You Want To Play?\")\n",
        "while c == \"yes\":\n",
        "  p1=input(\"choose rock, paper, or scissors: \")\n",
        "  #p2=input(\"choose rock, paper, or scissors:\")\n",
        "  p2= random.choice([\"rock\",\"paper\",\"scissors\"])\n",
        "\n",
        "\n",
        "  if p1==p2:\n",
        "    print(\"tie\")\n",
        "  elif (p1==\"rock\" and p2==\"scissors\") or (p1==\"paper\" and p2==\"rock\") or (p1==\"scissors\" and p2==\"paper\"):\n",
        "    print(\"You win!\")\n",
        "  else:\n",
        "    print(\"Computer wins =()\")\n",
        "  c=input(\"Do You Want To Play Again?\")\n",
        "print(\"Thanks for playing\")\n"
      ],
      "metadata": {
        "colab": {
          "base_uri": "https://localhost:8080/"
        },
        "id": "gz3Xx2Y44mm5",
        "outputId": "8358181a-f657-4c78-8a97-306e932ae66f"
      },
      "execution_count": null,
      "outputs": [
        {
          "output_type": "stream",
          "name": "stdout",
          "text": [
            "Do You Want To Play?yes\n",
            "choose rock, paper, or scissors: rock\n",
            "player 2 wins\n",
            "Do You Want To Play Again?no\n",
            "Thanks for playing\n"
          ]
        }
      ]
    },
    {
      "cell_type": "code",
      "source": [
        "#simple calculator\n",
        "n1=float(input(\"Enter a number: \"))\n",
        "n2=float(input(\"Enter a number: \"))\n",
        "Symbol = input(\"Choose Operation +,-,*,/,**: \")\n",
        "\n",
        "if Symbol == \"+\":\n",
        "  print(n1+n2)\n",
        "elif Symbol == \"-\":\n",
        "  print(n1-n2)\n",
        "elif Symbol == \"*\":\n",
        "  print(n1*n2)\n",
        "elif Symbol == \"/\":\n",
        "    print(n1/n2)\n",
        "elif Symbol == \"**\":\n",
        "  print(n1**n2)\n",
        "else:\n",
        "  print(\"invalid input\")"
      ],
      "metadata": {
        "colab": {
          "base_uri": "https://localhost:8080/"
        },
        "id": "Wg5GKulW4rfp",
        "outputId": "6f9d5593-cd0d-454f-f2be-bd7545e3c2fb"
      },
      "execution_count": null,
      "outputs": [
        {
          "output_type": "stream",
          "name": "stdout",
          "text": [
            "Enter a number: 12\n",
            "Enter a number: 2\n",
            "Choose Operation +,-,*,/,**: **\n",
            "144.0\n"
          ]
        }
      ]
    },
    {
      "cell_type": "code",
      "source": [
        "#parking\n",
        "FR=5\n",
        "\n",
        "for t in range(1,9):\n",
        "  charge=FR+(2.5*t)\n",
        "  if charge<10:\n",
        "    charge=10.0\n",
        "  elif charge>20:\n",
        "      charge=20.0\n",
        "  print(t,charge)"
      ],
      "metadata": {
        "colab": {
          "base_uri": "https://localhost:8080/"
        },
        "id": "ZYZGFyOgDa1o",
        "outputId": "2941da92-9fb5-4d86-bfc7-9e9fb77aafc5"
      },
      "execution_count": null,
      "outputs": [
        {
          "output_type": "stream",
          "name": "stdout",
          "text": [
            "1 10.0\n",
            "2 10.0\n",
            "3 12.5\n",
            "4 15.0\n",
            "5 17.5\n",
            "6 20.0\n",
            "7 20.0\n",
            "8 20.0\n"
          ]
        }
      ]
    },
    {
      "cell_type": "code",
      "source": [
        "#movie theatre\n",
        "ticket_price = 10\n",
        "fixed_cost = 200\n",
        "fixed_attendees = 20\n",
        "\n",
        "for ad in range(0,201,25):\n",
        "  additional_attendees = round(2 * ad ** 0.5)\n",
        "  profit = (fixed_attendees + additional_attendees) * ticket_price - ad - fixed_cost\n",
        "  print(ad, profit)"
      ],
      "metadata": {
        "colab": {
          "base_uri": "https://localhost:8080/"
        },
        "id": "pJEQ69MS5bBz",
        "outputId": "3923d826-11b4-4838-9de8-7156a845124d"
      },
      "execution_count": null,
      "outputs": [
        {
          "output_type": "stream",
          "name": "stdout",
          "text": [
            "0 0\n",
            "25 75\n",
            "50 90\n",
            "75 95\n",
            "100 100\n",
            "125 95\n",
            "150 90\n",
            "175 85\n",
            "200 80\n"
          ]
        }
      ]
    },
    {
      "cell_type": "code",
      "source": [
        "l = []\n",
        "\n",
        "integer = int(input('Give a value:'))\n",
        "\n",
        "while integer !=0:\n",
        "  l.append(integer)\n",
        "  integer = int(input('Give a value:'))\n",
        "\n",
        "print(l)"
      ],
      "metadata": {
        "colab": {
          "base_uri": "https://localhost:8080/"
        },
        "id": "D7zftknMVzaU",
        "outputId": "6b4f6949-73a3-47d3-e268-968e81d0c1c4"
      },
      "execution_count": null,
      "outputs": [
        {
          "output_type": "stream",
          "name": "stdout",
          "text": [
            "Give a value:4\n",
            "Give a value:3\n",
            "Give a value:3\n",
            "Give a value:2\n",
            "Give a value:1\n",
            "Give a value:0\n",
            "[4, 3, 3, 2, 1]\n"
          ]
        }
      ]
    },
    {
      "cell_type": "code",
      "source": [
        "months = {}\n",
        "\n",
        "names = ['Jan', 'Feb', 'Mar', 'Apr', 'May', 'Jun', 'Jul', 'Aug', 'Sep', 'Oct', 'Nov', 'Dec']\n",
        "numbers = [1, 2, 3, 4, 5, 6, 7, 8, 9, 10, 11, 12]\n",
        "\n",
        "for i in range(len(numbers)):\n",
        "  months[numbers[i]] = names[i]\n",
        "\n",
        "months\n",
        "\n"
      ],
      "metadata": {
        "colab": {
          "base_uri": "https://localhost:8080/"
        },
        "id": "W7Ozh-h37nwC",
        "outputId": "171b202e-db18-4077-e481-cb14e87ddd9e"
      },
      "execution_count": null,
      "outputs": [
        {
          "output_type": "execute_result",
          "data": {
            "text/plain": [
              "{1: 'Jan',\n",
              " 2: 'Feb',\n",
              " 3: 'Mar',\n",
              " 4: 'Apr',\n",
              " 5: 'May',\n",
              " 6: 'Jun',\n",
              " 7: 'Jul',\n",
              " 8: 'Aug',\n",
              " 9: 'Sep',\n",
              " 10: 'Oct',\n",
              " 11: 'Nov',\n",
              " 12: 'Dec'}"
            ]
          },
          "metadata": {},
          "execution_count": 8
        }
      ]
    },
    {
      "cell_type": "code",
      "source": [
        "for key, value in months.items():\n",
        "  print(key, value)"
      ],
      "metadata": {
        "colab": {
          "base_uri": "https://localhost:8080/"
        },
        "id": "fq8SJ6tgSwuO",
        "outputId": "4533cba8-018e-42dc-c714-797f5a13837a"
      },
      "execution_count": null,
      "outputs": [
        {
          "output_type": "stream",
          "name": "stdout",
          "text": [
            "1 Jan\n",
            "2 Feb\n",
            "3 Mar\n",
            "4 Apr\n",
            "5 May\n",
            "6 Jun\n",
            "7 Jul\n",
            "8 Aug\n",
            "9 Sep\n",
            "10 Oct\n",
            "11 Nov\n",
            "12 Dec\n"
          ]
        }
      ]
    },
    {
      "cell_type": "code",
      "source": [
        "annual_salary = float(input(\"Enter your annual salary: \"))\n",
        "portion_saved = float(input(\"Enter the percent of your salary to save, as a decimal: \"))\n",
        "total_cost = float(input(\"Enter the cost of your dream home: \"))\n",
        "semi_annual_raise = float(input(\"Enter the semi-annual raise, as a decimal: \"))\n",
        "\n",
        "portion_down_payment = 0.25\n",
        "current_savings = 0.0\n",
        "r = 0.04\n",
        "\n",
        "down_payment = total_cost * portion_down_payment\n",
        "\n",
        "monthly_salary = annual_salary / 12\n",
        "\n",
        "months = 0\n",
        "\n",
        "while current_savings < down_payment:\n",
        "    current_savings += current_savings * (r / 12)\n",
        "    current_savings += monthly_salary * portion_saved\n",
        "\n",
        "    if months % 6 == 0 and months != 0:\n",
        "        annual_salary += annual_salary * semi_annual_raise\n",
        "        monthly_salary = annual_salary / 12\n",
        "\n",
        "    months += 1\n",
        "\n",
        "print(f\"Number of months: {months}\")\n",
        "\n"
      ],
      "metadata": {
        "colab": {
          "base_uri": "https://localhost:8080/"
        },
        "id": "xdoZ8EyzY59x",
        "outputId": "874254a8-c355-4fdf-86fb-d6dd6e364201"
      },
      "execution_count": null,
      "outputs": [
        {
          "output_type": "stream",
          "name": "stdout",
          "text": [
            "Enter your annual salary: 1000000\n",
            "Enter the percent of your salary to save, as a decimal: .4\n",
            "Enter the cost of your dream home: 2500000\n",
            "Enter the semi-annual raise, as a decimal: .12\n",
            "Number of months: 17\n"
          ]
        }
      ]
    },
    {
      "cell_type": "code",
      "source": [
        "def calcFee(hours, decimals=2):\n",
        "  fee = 5 + hours * 2.5\n",
        "  fee = round(fee, decimals)\n",
        "  return fee\n",
        "\n",
        "def displayFee(fee):\n",
        "  print('Parking fee: ','$',fee)\n",
        "\n",
        "h = int(input('Enter number of hours parked: '))\n",
        "fee = calcFee(h)\n",
        "displayFee(fee)\n"
      ],
      "metadata": {
        "colab": {
          "base_uri": "https://localhost:8080/"
        },
        "id": "WpbKlLwJZ4if",
        "outputId": "a66fdd58-6a4f-4a4c-8f7b-5cbe19ba9715"
      },
      "execution_count": 14,
      "outputs": [
        {
          "output_type": "stream",
          "name": "stdout",
          "text": [
            "Enter number of hours parked: 3\n",
            "Parking fee:  $ 12.5\n"
          ]
        }
      ]
    }
  ]
}