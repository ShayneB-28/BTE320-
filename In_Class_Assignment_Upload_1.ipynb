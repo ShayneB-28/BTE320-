{
  "nbformat": 4,
  "nbformat_minor": 0,
  "metadata": {
    "colab": {
      "provenance": [],
      "authorship_tag": "ABX9TyOFHBC3j1jC7tyyjm4LSO18",
      "include_colab_link": true
    },
    "kernelspec": {
      "name": "python3",
      "display_name": "Python 3"
    },
    "language_info": {
      "name": "python"
    }
  },
  "cells": [
    {
      "cell_type": "markdown",
      "metadata": {
        "id": "view-in-github",
        "colab_type": "text"
      },
      "source": [
        "<a href=\"https://colab.research.google.com/github/ShayneB-28/BTE320-/blob/main/In_Class_Assignment_Upload_1.ipynb\" target=\"_parent\"><img src=\"https://colab.research.google.com/assets/colab-badge.svg\" alt=\"Open In Colab\"/></a>"
      ]
    },
    {
      "cell_type": "code",
      "execution_count": null,
      "metadata": {
        "colab": {
          "base_uri": "https://localhost:8080/"
        },
        "id": "5YqiJblhypiu",
        "outputId": "821760d6-4ee8-4976-a668-2959cb35a2e6"
      },
      "outputs": [
        {
          "output_type": "stream",
          "name": "stdout",
          "text": [
            "244.92000000000002\n"
          ]
        }
      ],
      "source": [
        "r=3\n",
        "h=10\n",
        "pi=3.14\n",
        "\n",
        "SA=2*pi*r**2 + 2*pi*r*h\n",
        "print(SA)\n",
        "#Class 3 : Finding the surface area of a cylinder"
      ]
    },
    {
      "cell_type": "code",
      "source": [
        "import random\n",
        "\n",
        "c=input(\"Do You Want To Play?\")\n",
        "while c == \"yes\":\n",
        "  p1=input(\"choose rock, paper, or scissors: \")\n",
        "  #p2=input(\"choose rock, paper, or scissors:\")\n",
        "  p2= random.choice([\"rock\",\"paper\",\"scissors\"])\n",
        "\n",
        "\n",
        "  if p1==p2:\n",
        "    print(\"tie\")\n",
        "  elif (p1==\"rock\" and p2==\"scissors\") or (p1==\"paper\" and p2==\"rock\") or (p1==\"scissors\" and p2==\"paper\"):\n",
        "    print(\"You win!\")\n",
        "  else:\n",
        "    print(\"Computer wins =()\")\n",
        "  c=input(\"Do You Want To Play Again?\")\n",
        "print(\"Thanks for playing\")\n"
      ],
      "metadata": {
        "colab": {
          "base_uri": "https://localhost:8080/"
        },
        "id": "gz3Xx2Y44mm5",
        "outputId": "8358181a-f657-4c78-8a97-306e932ae66f"
      },
      "execution_count": 7,
      "outputs": [
        {
          "output_type": "stream",
          "name": "stdout",
          "text": [
            "Do You Want To Play?yes\n",
            "choose rock, paper, or scissors: rock\n",
            "player 2 wins\n",
            "Do You Want To Play Again?no\n",
            "Thanks for playing\n"
          ]
        }
      ]
    },
    {
      "cell_type": "code",
      "source": [
        "n1=float(input(\"Enter a number: \"))\n",
        "n2=float(input(\"Enter a number: \"))\n",
        "Symbol = input(\"Choose Operation +,-,*,/,**: \")\n",
        "\n",
        "if Symbol == \"+\":\n",
        "  print(n1+n2)\n",
        "elif Symbol == \"-\":\n",
        "  print(n1-n2)\n",
        "elif Symbol == \"*\":\n",
        "  print(n1*n2)\n",
        "elif Symbol == \"/\":\n",
        "    print(n1/n2)\n",
        "elif Symbol == \"**\":\n",
        "  print(n1**n2)\n",
        "else:\n",
        "  print(\"invalid input\")"
      ],
      "metadata": {
        "colab": {
          "base_uri": "https://localhost:8080/"
        },
        "id": "Wg5GKulW4rfp",
        "outputId": "6f9d5593-cd0d-454f-f2be-bd7545e3c2fb"
      },
      "execution_count": null,
      "outputs": [
        {
          "output_type": "stream",
          "name": "stdout",
          "text": [
            "Enter a number: 12\n",
            "Enter a number: 2\n",
            "Choose Operation +,-,*,/,**: **\n",
            "144.0\n"
          ]
        }
      ]
    },
    {
      "cell_type": "code",
      "source": [
        "FR=5\n",
        "\n",
        "for t in range(1,9):\n",
        "  charge=FR+(2.5*t)\n",
        "  if charge<10:\n",
        "    charge=10\n",
        "  elif charge>20:\n",
        "      charge=20\n",
        "  print(t,charge)"
      ],
      "metadata": {
        "colab": {
          "base_uri": "https://localhost:8080/"
        },
        "id": "ZYZGFyOgDa1o",
        "outputId": "21838640-b0d7-4620-cc92-4370a217254d"
      },
      "execution_count": 14,
      "outputs": [
        {
          "output_type": "stream",
          "name": "stdout",
          "text": [
            "1 10\n",
            "2 10.0\n",
            "3 12.5\n",
            "4 15.0\n",
            "5 17.5\n",
            "6 20.0\n",
            "7 20\n",
            "8 20\n"
          ]
        }
      ]
    }
  ]
}